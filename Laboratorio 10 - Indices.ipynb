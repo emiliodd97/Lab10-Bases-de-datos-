{
 "cells": [
  {
   "cell_type": "markdown",
   "metadata": {},
   "source": [
    "## Laboratorio 10 - Índices\n",
    "\n",
    "#### Bienvenida\n",
    "\n",
    "Este laboratorio tiene por objetivo verificar las mejoras en el desempeño de los queries en SQL cuando se trabajan los índices adecuados.\n",
    "\n",
    "Iniciaremos cargando la extensión de python que nos permitirá interactuar con bases de datos SQLite:"
   ]
  },
  {
   "cell_type": "code",
   "execution_count": null,
   "metadata": {
    "slideshow": {
     "slide_type": "slide"
    }
   },
   "outputs": [],
   "source": [
    "%load_ext sql"
   ]
  },
  {
   "cell_type": "markdown",
   "metadata": {
    "slideshow": {
     "slide_type": "slide"
    }
   },
   "source": [
    "Ejercicio 1\n",
    "===========\n",
    "\n",
    "En este ejercicio trabajaremos con el dataset [consumer complaint database](https://catalog.data.gov/dataset/consumer-complaint-database) proveniente de from data.gov:"
   ]
  },
  {
   "cell_type": "code",
   "execution_count": null,
   "metadata": {},
   "outputs": [],
   "source": [
    "%sql sqlite:///complaint.db"
   ]
  },
  {
   "cell_type": "markdown",
   "metadata": {},
   "source": [
    "Adicionalmente utilizaremos una nueva extensión para poder estudiar los tiempos de respuesta de nuestros queries:"
   ]
  },
  {
   "cell_type": "code",
   "execution_count": null,
   "metadata": {},
   "outputs": [],
   "source": [
    "import time"
   ]
  },
  {
   "cell_type": "markdown",
   "metadata": {},
   "source": [
    "Iniciemos verificando de qué datos disponemos en la base de datos.\n",
    "\n",
    "Escriba a continuación los queries necesarios para estudiar de qué tablas y atributos dispone en la base de datos:"
   ]
  },
  {
   "cell_type": "code",
   "execution_count": null,
   "metadata": {
    "slideshow": {
     "slide_type": "slide"
    }
   },
   "outputs": [],
   "source": [
    "%sql SELECT * FROM sqlite_master;"
   ]
  },
  {
   "cell_type": "markdown",
   "metadata": {},
   "source": [
    "### (a) Queries sin índices (5 puntos)\n",
    "\n",
    "Escriba a continuación un query para encontrar el producto, estado y cantidad de complaints de los cinco pares (producto, estado) con la mayor cantidad de complaints.\n",
    "\n",
    "Utilice sintaxis de una sola linea de forma que pueda utilizar `%time` para estudiar el tiempo de ejecución:"
   ]
  },
  {
   "cell_type": "code",
   "execution_count": null,
   "metadata": {},
   "outputs": [],
   "source": [
    "%time %sql SELECT Product,State,count(*) FROM complaints GROUP BY Product, State"
   ]
  },
  {
   "cell_type": "markdown",
   "metadata": {},
   "source": [
    "### (b) Queries con un índice de un solo campo (10 puntos)\n",
    "\n",
    "A continuación cree un indice de un solo campo que mejore el tiempo de respuesta de su query.\n",
    "\n",
    "Recuerde que la sintaxis para creación de queries es:\n",
    "\n",
    "> DROP INDEX IF EXISTS index_name;\n",
    "> CREATE INDEX index_name ON table(attributes);"
   ]
  },
  {
   "cell_type": "code",
   "execution_count": null,
   "metadata": {},
   "outputs": [],
   "source": [
    "%%sql DROP INDEX IF EXISTS test; CREATE INDEX test ON complaints(Product, State);\n"
   ]
  },
  {
   "cell_type": "markdown",
   "metadata": {},
   "source": [
    "Ejecute nuevamente su query inicial para verificar que el tiempo de respuesta mejoró:"
   ]
  },
  {
   "cell_type": "code",
   "execution_count": null,
   "metadata": {},
   "outputs": [],
   "source": [
    "%time %sql SELECT Product,State,count(*) FROM complaints GROUP BY Product, State"
   ]
  },
  {
   "cell_type": "markdown",
   "metadata": {},
   "source": [
    "### (c) Covering indexes (10 puntos)\n",
    "\n",
    "A continuación investigue y describa qué es un _covering index_ y defina un _convering index_ que cubra el query anterior:\n"
   ]
  },
  {
   "cell_type": "code",
   "execution_count": null,
   "metadata": {},
   "outputs": [],
   "source": [
    "%%sql DROP INDEX IF EXISTS cover"
   ]
  },
  {
   "cell_type": "markdown",
   "metadata": {},
   "source": [
    "Ejecute nuevamente su query inicial para verificar que el tiempo de respuesta mejoró:"
   ]
  },
  {
   "cell_type": "code",
   "execution_count": null,
   "metadata": {},
   "outputs": [],
   "source": [
    "%time %sql -- Ingrese su query aqui"
   ]
  },
  {
   "cell_type": "markdown",
   "metadata": {},
   "source": [
    "### (d) EXPLAIN (5 puntos)\n",
    "\n",
    "Investigue y utilice la versión SQLite de EXPLAIN para mostrar que SQLite reconoció y está utilizando su _covering index_.\n",
    "\n",
    "La sintaxis va algo así:\n",
    "\n",
    "> EXPLAIN QUERY PLAN your_query_here;"
   ]
  },
  {
   "cell_type": "code",
   "execution_count": null,
   "metadata": {},
   "outputs": [],
   "source": [
    "%%sql\n",
    "\n",
    "-- Inserte su query aqui\n"
   ]
  },
  {
   "cell_type": "markdown",
   "metadata": {},
   "source": [
    "Ejercicio 2\n",
    "=========\n",
    "\n",
    "Ahora veamos cómo aplicar estos conceptos a una base de datos un poco más pesada.\n",
    "\n",
    "Cargue a continuación la base de datos **ontime-2017-2018.db** utilizada durante su proyecto 1.\n",
    "\n",
    "Recuerde que puede consultar los detalles de los atributos [aqui](https://www.transtats.bts.gov/DL_SelectFields.asp?Table_ID=236)."
   ]
  },
  {
   "cell_type": "code",
   "execution_count": null,
   "metadata": {},
   "outputs": [],
   "source": [
    "%sql sqlite:///ontime-2017-2018.db"
   ]
  },
  {
   "cell_type": "markdown",
   "metadata": {},
   "source": [
    "Escriba a continuación el query necesario para mostrar los índices existentes en esta base de datos:"
   ]
  },
  {
   "cell_type": "code",
   "execution_count": null,
   "metadata": {},
   "outputs": [],
   "source": [
    "%sql -- Inserte su query aquí"
   ]
  },
  {
   "cell_type": "markdown",
   "metadata": {},
   "source": [
    "### (a) Uso de índices en Flights (20 puntos)\n",
    "\n",
    "Ahora considere el siguiente query:\n",
    "\n",
    "```\n",
    "SELECT f.dest\n",
    "FROM ontime f\n",
    "GROUP BY f.dest\n",
    "```\n",
    "\n",
    "Haga uso de EXPLAIN QUERY PLAN y de `%time` para mostrar, utilizando múltiples celdas, la diferencia en el tiempo de respuesta cuando existe un índice sobre `ontime.dest`.\n",
    "\n",
    "_Nota_: Para responder a este ejercicio deberá eliminar el índice creado sobre este campo. Es probable que luego deba reiniciar la el kernel del Juyper notebook para lograr que el query plan ya no muestre al índice eliminado."
   ]
  },
  {
   "cell_type": "code",
   "execution_count": null,
   "metadata": {},
   "outputs": [],
   "source": []
  },
  {
   "cell_type": "markdown",
   "metadata": {},
   "source": [
    "### (b) Uso de covering indexes (20 puntos)\n",
    "\n",
    "El siguiente query reporta el promedio de retraso en el tiempo de llegada por cada aerolínea que vuela hacia el aeropuerto JFK:\n",
    "\n",
    "```\n",
    "SELECT a.description, AVG(f.ArrDelay) as ArrDelayAverage\n",
    "FROM ontime f\n",
    "    LEFT JOIN unique_carriers a ON f.reporting_airline = a.code\n",
    "WHERE a.code IN (\n",
    "    SELECT DISTINCT f2.reporting_airline\n",
    "    FROM ontime f2\n",
    "    WHERE f2.dest = 'JFK'\n",
    ")\n",
    "GROUP BY a.description\n",
    "ORDER BY ArrDelayAverage DESC;\n",
    "```\n",
    "\n",
    "Defina un covering index que mejore el desempeño del query, y muestre la respectiva mejora:"
   ]
  },
  {
   "cell_type": "markdown",
   "metadata": {},
   "source": [
    "### (c) Optimización de queries del proyecto (30 puntos)\n",
    "\n",
    "Utilizando las herramientas aprendidas durante este laboratorio mejore el tiempo dejecución de uno de los queries propuestos para su proyecto 1, o justique por qué no es posible mejorar ese tiempo de respuesta agregando nuevos índices."
   ]
  }
 ],
 "metadata": {
  "kernelspec": {
   "display_name": "Python 3",
   "language": "python",
   "name": "python3"
  },
  "language_info": {
   "codemirror_mode": {
    "name": "ipython",
    "version": 3
   },
   "file_extension": ".py",
   "mimetype": "text/x-python",
   "name": "python",
   "nbconvert_exporter": "python",
   "pygments_lexer": "ipython3",
   "version": "3.7.1"
  }
 },
 "nbformat": 4,
 "nbformat_minor": 1
}
